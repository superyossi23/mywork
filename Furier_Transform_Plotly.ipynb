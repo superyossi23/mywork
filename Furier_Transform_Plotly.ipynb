{
 "cells": [
  {
   "cell_type": "markdown",
   "metadata": {},
   "source": [
    "FFT\n",
    "$$\n",
    "X\\omega (t) = \\int_{-\\infty}^{\\infty} x(t) e^{-j\\omega t}dt\n",
    "$$\n",
    "\n",
    "IFFT\n",
    "$$\n",
    "x(t) = \\frac{a}{2\\pi}\\int_{-\\infty}^{\\infty} X(t) e^{-j\\omega t} dt\n",
    "$$\n",
    "\n",
    "hanning\n",
    "$$\n",
    "x(t) = 0.5 - 0.5 \\cos 2\\pi t, \\; ( 0 \\leq t \\leq 1 )\n",
    "$$\n",
    "\n",
    "hamming\n",
    "$$\n",
    "x(t) = 0.54 - 0.46 \\cos 2 \\pi t, \\; (0 \\leq t \\leq 1)\n",
    "$$\n",
    "\n",
    "blackman\n",
    "$$\n",
    "x(t) = 0.42 - 0.5 \\cos 2 \\pi t + 0.08 \\cos 4 \\pi t, \\; (0 \\leq t \\leq 1)\n",
    "$$\n",
    "\n",
    "rectangular\n",
    "$$\n",
    "x(t) = 1, \\; (0 \\leq t \\leq 1)\n",
    "$$"
   ]
  },
  {
   "cell_type": "code",
   "execution_count": 1,
   "metadata": {
    "ExecuteTime": {
     "end_time": "2022-02-12T02:30:42.439993Z",
     "start_time": "2022-02-12T02:30:42.096851Z"
    }
   },
   "outputs": [],
   "source": [
    "from FFT_Calculation2 import MyFFT\n",
    "import pandas as pd\n",
    "from ipywidgets import widgets, Layout\n",
    "import plotly.graph_objects as go"
   ]
  },
  {
   "cell_type": "code",
   "execution_count": 3,
   "metadata": {
    "ExecuteTime": {
     "end_time": "2022-02-12T02:32:08.215293Z",
     "start_time": "2022-02-12T02:32:08.068688Z"
    }
   },
   "outputs": [
    {
     "data": {
      "application/vnd.jupyter.widget-view+json": {
       "model_id": "e2223dd74a374caeac56493e59f0caee",
       "version_major": 2,
       "version_minor": 0
      },
      "text/plain": [
       "VBox(children=(VBox(children=(Dropdown(description='window:', index=3, options=('hanning', 'hamming', 'blackma…"
      ]
     },
     "metadata": {},
     "output_type": "display_data"
    }
   ],
   "source": [
    "# FFT Calculation\n",
    "myfft = MyFFT()\n",
    "\n",
    "data = pd.read_csv('sample_data_for_FFT.csv')\n",
    "t = data.iloc[:, 0]\n",
    "x = data.iloc[:, 1]\n",
    "\n",
    "# dt = 0.01 # サンプリング周期\n",
    "# split_t_r = 0.1 # 窓の範囲\n",
    "# overlap = 0.5 # 窓関数のオーバーラップ\n",
    "# window_F = 'hanning'\n",
    "output_FN = 'test.png'\n",
    "y_label = 'amplitude'\n",
    "y_unit = 'V'\n",
    "\n",
    "#######################################################################################################\n",
    "# Create Widgets\n",
    "\n",
    "# サンプリング周期\n",
    "dt_btn = widgets.FloatLogSlider(value=0.01, min=-4, max=-1, step=1, \n",
    "                                description='dt:', \n",
    "                                layout=Layout(width='80%'))\n",
    "\n",
    "# 窓関数の選択\n",
    "window_F_btn = widgets.Dropdown(value='rectangular', description='window:', options=myfft.window_list)\n",
    "# 窓の範囲\n",
    "# 何分割するか．0分割=1. 10分割=0.1．\n",
    "split_t_r_btn = widgets.FloatLogSlider(value=0.1, min=-2, max=0, step=1, description='窓の範囲:',\n",
    "                                       layout=dt_btn.layout)\n",
    "# 窓関数のオーバーラップ\n",
    "overlap_btn = widgets.FloatSlider(value=0.5, min=0.1, max=1, step=0.1, description='Overlap:',\n",
    "                                  layout=dt_btn.layout)\n",
    "# t Range Slider\n",
    "range_slider = widgets.FloatRangeSlider(value=[0, len(t)-1], min=0, max=len(t)-1, step=1,\n",
    "                                        description='t Range Slider:', \n",
    "                                        readout_format='d', \n",
    "                                        style = {'description_width': 'initial'}, \n",
    "                                        layout=Layout(width='90%'))\n",
    "\n",
    "#######################################################################################################\n",
    "# Substitute returned values for variables\n",
    "fq_avg, F_abs_amp_avg = myfft.FFT_main(t, x, dt_btn.value, split_t_r_btn.value, overlap_btn.value, \n",
    "                                       window_F_btn.value, output_FN, y_label, y_unit)\n",
    "\n",
    "#######################################################################################################\n",
    "# Assign an empty figure widget with a trace\n",
    "trace1 = go.Scatter(x=t, y=x, name='raw data')\n",
    "\n",
    "graph1 = go.FigureWidget(data=trace1, \n",
    "                         layout=go.Layout(title=dict(text='Sample data'),\n",
    "                                          xaxis=dict(title='Time (s)'),\n",
    "                                          yaxis=dict(title=y_label + '(' + y_unit + ')'),\n",
    "                                          height=300, width=900))\n",
    "\n",
    "trace2 = go.Scatter(x=fq_avg, y=F_abs_amp_avg, name=window_F_btn.value)\n",
    "\n",
    "graph2 = go.FigureWidget(data=trace2, \n",
    "                         layout=go.Layout(title=dict(text='FFT'),\n",
    "                                          xaxis=dict(title='Frequency (Hz)'),\n",
    "                                          yaxis=dict(title=y_label + '( ' + y_unit + '/sqrt(Hz))'),\n",
    "                                          height=400, width=900))\n",
    "\n",
    "#######################################################################################################\n",
    "# Write functions that will handle the input from the widgets\n",
    "def response(change):\n",
    "    X0 = int(range_slider.value[0])\n",
    "    X1 = int(range_slider.value[1])\n",
    "    fq_avg, F_abs_amp_avg = myfft.FFT_main(t[X0:X1], x[X0:X1], dt_btn.value, split_t_r_btn.value, overlap_btn.value, \n",
    "                                           window_F_btn.value, output_FN, y_label, y_unit)\n",
    "\n",
    "    with graph2.batch_update():        \n",
    "        graph1.data[0].x = t[X0:X1]\n",
    "        graph1.data[0].y = x[X0:X1]\n",
    "        graph2.data[0].x = fq_avg\n",
    "        graph2.data[0].y = F_abs_amp_avg\n",
    "        \n",
    "dt_btn.observe(response, names=\"value\")\n",
    "window_F_btn.observe(response, names=\"value\")\n",
    "split_t_r_btn.observe(response, names=\"value\")\n",
    "overlap_btn.observe(response, names=\"value\")\n",
    "range_slider.observe(response, names='value')\n",
    "\n",
    "# Widgets Box\n",
    "btn_widgets = widgets.VBox([window_F_btn, dt_btn, split_t_r_btn, overlap_btn, range_slider])\n",
    "\n",
    "app = widgets.VBox([btn_widgets, graph1, graph2])\n",
    "app"
   ]
  },
  {
   "cell_type": "code",
   "execution_count": null,
   "metadata": {},
   "outputs": [],
   "source": []
  }
 ],
 "metadata": {
  "kernelspec": {
   "display_name": "Python 3",
   "language": "python",
   "name": "python3"
  },
  "language_info": {
   "codemirror_mode": {
    "name": "ipython",
    "version": 3
   },
   "file_extension": ".py",
   "mimetype": "text/x-python",
   "name": "python",
   "nbconvert_exporter": "python",
   "pygments_lexer": "ipython3",
   "version": "3.9.1"
  },
  "toc": {
   "base_numbering": 1,
   "nav_menu": {},
   "number_sections": true,
   "sideBar": true,
   "skip_h1_title": false,
   "title_cell": "Table of Contents",
   "title_sidebar": "Contents",
   "toc_cell": false,
   "toc_position": {},
   "toc_section_display": true,
   "toc_window_display": false
  },
  "varInspector": {
   "cols": {
    "lenName": 16,
    "lenType": 16,
    "lenVar": 40
   },
   "kernels_config": {
    "python": {
     "delete_cmd_postfix": "",
     "delete_cmd_prefix": "del ",
     "library": "var_list.py",
     "varRefreshCmd": "print(var_dic_list())"
    },
    "r": {
     "delete_cmd_postfix": ") ",
     "delete_cmd_prefix": "rm(",
     "library": "var_list.r",
     "varRefreshCmd": "cat(var_dic_list()) "
    }
   },
   "types_to_exclude": [
    "module",
    "function",
    "builtin_function_or_method",
    "instance",
    "_Feature"
   ],
   "window_display": false
  }
 },
 "nbformat": 4,
 "nbformat_minor": 4
}
